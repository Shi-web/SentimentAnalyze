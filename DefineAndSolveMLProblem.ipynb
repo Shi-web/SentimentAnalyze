{
 "cells": [
  {
   "cell_type": "markdown",
   "metadata": {},
   "source": [
    "# Lab 8: Define and Solve an ML Problem of Your Choosing"
   ]
  },
  {
   "cell_type": "code",
   "execution_count": 1,
   "metadata": {},
   "outputs": [],
   "source": [
    "import pandas as pd\n",
    "import numpy as np\n",
    "import os \n",
    "import matplotlib.pyplot as plt\n",
    "import seaborn as sns"
   ]
  },
  {
   "cell_type": "markdown",
   "metadata": {},
   "source": [
    "In this lab assignment, you will follow the machine learning life cycle and implement a model to solve a machine learning problem of your choosing. You will select a data set and choose a predictive problem that the data set supports.  You will then inspect the data with your problem in mind and begin to formulate a  project plan. You will then implement the machine learning project plan. \n",
    "\n",
    "You will complete the following tasks:\n",
    "\n",
    "1. Build Your DataFrame\n",
    "2. Define Your ML Problem\n",
    "3. Perform exploratory data analysis to understand your data.\n",
    "4. Define Your Project Plan\n",
    "5. Implement Your Project Plan:\n",
    "    * Prepare your data for your model.\n",
    "    * Fit your model to the training data and evaluate your model.\n",
    "    * Improve your model's performance."
   ]
  },
  {
   "cell_type": "markdown",
   "metadata": {},
   "source": [
    "## Part 1: Build Your DataFrame\n",
    "\n",
    "You will have the option to choose one of four data sets that you have worked with in this program:\n",
    "\n",
    "* The \"census\" data set that contains Census information from 1994: `censusData.csv`\n",
    "* Airbnb NYC \"listings\" data set: `airbnbListingsData.csv`\n",
    "* World Happiness Report (WHR) data set: `WHR2018Chapter2OnlineData.csv`\n",
    "* Book Review data set: `bookReviewsData.csv`\n",
    "\n",
    "Note that these are variations of the data sets that you have worked with in this program. For example, some do not include some of the preprocessing necessary for specific models. \n",
    "\n",
    "#### Load a Data Set and Save it as a Pandas DataFrame\n",
    "\n",
    "The code cell below contains filenames (path + filename) for each of the four data sets available to you.\n",
    "\n",
    "<b>Task:</b> In the code cell below, use the same method you have been using to load the data using `pd.read_csv()` and save it to DataFrame `df`. \n",
    "\n",
    "You can load each file as a new DataFrame to inspect the data before choosing your data set."
   ]
  },
  {
   "cell_type": "code",
   "execution_count": 2,
   "metadata": {},
   "outputs": [
    {
     "data": {
      "text/html": [
       "<div>\n",
       "<style scoped>\n",
       "    .dataframe tbody tr th:only-of-type {\n",
       "        vertical-align: middle;\n",
       "    }\n",
       "\n",
       "    .dataframe tbody tr th {\n",
       "        vertical-align: top;\n",
       "    }\n",
       "\n",
       "    .dataframe thead th {\n",
       "        text-align: right;\n",
       "    }\n",
       "</style>\n",
       "<table border=\"1\" class=\"dataframe\">\n",
       "  <thead>\n",
       "    <tr style=\"text-align: right;\">\n",
       "      <th></th>\n",
       "      <th>Review</th>\n",
       "      <th>Positive Review</th>\n",
       "    </tr>\n",
       "  </thead>\n",
       "  <tbody>\n",
       "    <tr>\n",
       "      <th>0</th>\n",
       "      <td>This was perhaps the best of Johannes Steinhof...</td>\n",
       "      <td>True</td>\n",
       "    </tr>\n",
       "    <tr>\n",
       "      <th>1</th>\n",
       "      <td>This very fascinating book is a story written ...</td>\n",
       "      <td>True</td>\n",
       "    </tr>\n",
       "    <tr>\n",
       "      <th>2</th>\n",
       "      <td>The four tales in this collection are beautifu...</td>\n",
       "      <td>True</td>\n",
       "    </tr>\n",
       "    <tr>\n",
       "      <th>3</th>\n",
       "      <td>The book contained more profanity than I expec...</td>\n",
       "      <td>False</td>\n",
       "    </tr>\n",
       "    <tr>\n",
       "      <th>4</th>\n",
       "      <td>We have now entered a second time of deep conc...</td>\n",
       "      <td>True</td>\n",
       "    </tr>\n",
       "  </tbody>\n",
       "</table>\n",
       "</div>"
      ],
      "text/plain": [
       "                                              Review  Positive Review\n",
       "0  This was perhaps the best of Johannes Steinhof...             True\n",
       "1  This very fascinating book is a story written ...             True\n",
       "2  The four tales in this collection are beautifu...             True\n",
       "3  The book contained more profanity than I expec...            False\n",
       "4  We have now entered a second time of deep conc...             True"
      ]
     },
     "execution_count": 2,
     "metadata": {},
     "output_type": "execute_result"
    }
   ],
   "source": [
    "# File names of the four data sets\n",
    "adultDataSet_filename = os.path.join(os.getcwd(), \"data\", \"censusData.csv\")\n",
    "airbnbDataSet_filename = os.path.join(os.getcwd(), \"data\", \"airbnbListingsData.csv\")\n",
    "WHRDataSet_filename = os.path.join(os.getcwd(), \"data\", \"WHR2018Chapter2OnlineData.csv\")\n",
    "bookReviewDataSet_filename = os.path.join(os.getcwd(), \"data\", \"bookReviewsData.csv\")\n",
    "\n",
    "\n",
    "df = pd.read_csv(bookReviewDataSet_filename, header=0)# YOUR CODE HERE\n",
    "\n",
    "df.head()"
   ]
  },
  {
   "cell_type": "markdown",
   "metadata": {},
   "source": [
    "## Part 2: Define Your ML Problem\n",
    "\n",
    "Next you will formulate your ML Problem. In the markdown cell below, answer the following questions:\n",
    "\n",
    "1. List the data set you have chosen.\n",
    "2. What will you be predicting? What is the label?\n",
    "3. Is this a supervised or unsupervised learning problem? Is this a clustering, classification or regression problem? Is it a binary classificaiton or multi-class classifiction problem?\n",
    "4. What are your features? (note: this list may change after your explore your data)\n",
    "5. Explain why this is an important problem. In other words, how would a company create value with a model that predicts this label?"
   ]
  },
  {
   "cell_type": "markdown",
   "metadata": {},
   "source": [
    "1. I have chosen a book review dataset, which contains user-written reviews along with Postive Review field which tells us if the review is positive or not.\n",
    "2. I will be predicting wheather the book review is positive or not. The label is Positive Review.\n",
    "3. This is a supervised learning problem. It is a classification task.Specifically, it is a binary classification problem.\n",
    "4. My feature is Review.\n",
    "5. This problem is important because companies like Amazon can use a sentiment prediction model to quickly understand customer feedback and improve product recommendations, and make data-driven decisions. Automating review analysis saves time and enhances the customer experience, adding business value.\n",
    "\n"
   ]
  },
  {
   "cell_type": "markdown",
   "metadata": {},
   "source": [
    "## Part 3: Understand Your Data\n",
    "\n",
    "The next step is to perform exploratory data analysis. Inspect and analyze your data set with your machine learning problem in mind. Consider the following as you inspect your data:\n",
    "\n",
    "1. What data preparation techniques would you like to use? These data preparation techniques may include:\n",
    "\n",
    "    * addressing missingness, such as replacing missing values with means\n",
    "    * finding and replacing outliers\n",
    "    * renaming features and labels\n",
    "    * finding and replacing outliers\n",
    "    * performing feature engineering techniques such as one-hot encoding on categorical features\n",
    "    * selecting appropriate features and removing irrelevant features\n",
    "    * performing specific data cleaning and preprocessing techniques for an NLP problem\n",
    "    * addressing class imbalance in your data sample to promote fair AI\n",
    "    \n",
    "\n",
    "2. What machine learning model (or models) you would like to use that is suitable for your predictive problem and data?\n",
    "    * Are there other data preparation techniques that you will need to apply to build a balanced modeling data set for your problem and model? For example, will you need to scale your data?\n",
    " \n",
    " \n",
    "3. How will you evaluate and improve the model's performance?\n",
    "    * Are there specific evaluation metrics and methods that are appropriate for your model?\n",
    "    \n",
    "\n",
    "Think of the different techniques you have used to inspect and analyze your data in this course. These include using Pandas to apply data filters, using the Pandas `describe()` method to get insight into key statistics for each column, using the Pandas `dtypes` property to inspect the data type of each column, and using Matplotlib and Seaborn to detect outliers and visualize relationships between features and labels. If you are working on a classification problem, use techniques you have learned to determine if there is class imbalance.\n",
    "\n",
    "<b>Task</b>: Use the techniques you have learned in this course to inspect and analyze your data. You can import additional packages that you have used in this course that you will need to perform this task.\n",
    "\n",
    "<b>Note</b>: You can add code cells if needed by going to the <b>Insert</b> menu and clicking on <b>Insert Cell Below</b> in the drop-drown menu."
   ]
  },
  {
   "cell_type": "code",
   "execution_count": 3,
   "metadata": {},
   "outputs": [
    {
     "name": "stdout",
     "output_type": "stream",
     "text": [
      "(1973, 2)\n",
      "                                              Review  Positive Review\n",
      "0  This was perhaps the best of Johannes Steinhof...             True\n",
      "1  This very fascinating book is a story written ...             True\n",
      "2  The four tales in this collection are beautifu...             True\n",
      "3  The book contained more profanity than I expec...            False\n",
      "4  We have now entered a second time of deep conc...             True\n",
      "5  I don't know why it won the National Book Awar...            False\n",
      "6  The daughter of a prominent Boston doctor is d...            False\n",
      "7  I was very disapointed in the book.Basicly the...            False\n",
      "8  I think in retrospect I wasted my time on this...            False\n",
      "9  I have a hard time understanding what it is th...            False\n"
     ]
    }
   ],
   "source": [
    "# YOUR CODE HERE\n",
    "print(df.shape)\n",
    "print(df.head(10))"
   ]
  },
  {
   "cell_type": "markdown",
   "metadata": {},
   "source": [
    "## Part 4: Define Your Project Plan\n",
    "\n",
    "Now that you understand your data, in the markdown cell below, define your plan to implement the remaining phases of the machine learning life cycle (data preparation, modeling, evaluation) to solve your ML problem. Answer the following questions:\n",
    "\n",
    "* Do you have a new feature list? If so, what are the features that you chose to keep and remove after inspecting the data? \n",
    "* Explain different data preparation techniques that you will use to prepare your data for modeling.\n",
    "* What is your model (or models)?\n",
    "* Describe your plan to train your model, analyze its performance and then improve the model. That is, describe your model building, validation and selection plan to produce a model that generalizes well to new data. "
   ]
  },
  {
   "cell_type": "markdown",
   "metadata": {},
   "source": [
    "No, The feature list is same as before i.e I choose to keep book review for the feature. \n",
    "\n",
    "To prepare the data, I will use TF-IDF vectorization, which includes automatic lowercasing, and convert the review text into numerical features for model training.\n",
    "\n",
    "My model is a feedforward neural network built using Keras Sequential API. It includes an input layer (matching the TF-IDF vocabulary size), three hidden layers using ReLU activation, and an output layer with 1 unit using the sigmoid activation function for binary classification.\n",
    "\n",
    "I will train the model using stochastic gradient descent (SGD) and binary cross-entropy as the loss function. I’ll evaluate the model using accuracy and loss on both training and validation data. After initial training , I’ll visualize loss/accuracy curves to check for underfitting or overfitting. To improve generalization, I may adjust hyperparameters (like learning rate, layers, or batch size), add dropout layers for regularization, or try different optimizers. The final model will be tested on unseen test data to evaluate its real-world performance.\n",
    "\n"
   ]
  },
  {
   "cell_type": "markdown",
   "metadata": {},
   "source": [
    "## Part 5: Implement Your Project Plan\n",
    "\n",
    "<b>Task:</b> In the code cell below, import additional packages that you have used in this course that you will need to implement your project plan."
   ]
  },
  {
   "cell_type": "code",
   "execution_count": 4,
   "metadata": {},
   "outputs": [],
   "source": [
    "# YOUR CODE HERE\n",
    "os.environ[\"TF_CPP_MIN_LOG_LEVEL\"] = \"2\" # suppress info and warning messages\n",
    "import tensorflow.keras as keras\n",
    "import time\n",
    "from tensorflow.keras.models import Sequential\n",
    "from tensorflow.keras.layers import InputLayer, Dense\n",
    "from sklearn.feature_extraction.text import TfidfVectorizer\n",
    "from sklearn.model_selection import train_test_split"
   ]
  },
  {
   "cell_type": "markdown",
   "metadata": {},
   "source": [
    "<b>Task:</b> Use the rest of this notebook to carry out your project plan. \n",
    "\n",
    "You will:\n",
    "\n",
    "1. Prepare your data for your model.\n",
    "2. Fit your model to the training data and evaluate your model.\n",
    "3. Improve your model's performance by performing model selection and/or feature selection techniques to find best model for your problem.\n",
    "\n",
    "Add code cells below and populate the notebook with commentary, code, analyses, results, and figures as you see fit. "
   ]
  },
  {
   "cell_type": "code",
   "execution_count": 5,
   "metadata": {},
   "outputs": [
    {
     "name": "stdout",
     "output_type": "stream",
     "text": [
      "Model: \"sequential\"\n",
      "_________________________________________________________________\n",
      "Layer (type)                 Output Shape              Param #   \n",
      "=================================================================\n",
      "dense (Dense)                (None, 64)                1187776   \n",
      "_________________________________________________________________\n",
      "dense_1 (Dense)              (None, 32)                2080      \n",
      "_________________________________________________________________\n",
      "dense_2 (Dense)              (None, 16)                528       \n",
      "_________________________________________________________________\n",
      "dense_3 (Dense)              (None, 1)                 17        \n",
      "=================================================================\n",
      "Total params: 1,190,401\n",
      "Trainable params: 1,190,401\n",
      "Non-trainable params: 0\n",
      "_________________________________________________________________\n"
     ]
    }
   ],
   "source": [
    "# Define label\n",
    "y = df['Positive Review'] \n",
    "X = df['Review']\n",
    "\n",
    "#Create Training and Test Data Sets\n",
    "X_train, X_test, y_train, y_test = train_test_split(X, y, train_size=.75, random_state=1234)\n",
    "\n",
    "#Implement TF-IDF Vectorizer to Transform Text\n",
    "tfidf_vectorizer = TfidfVectorizer()\n",
    "tfidf_vectorizer.fit(X_train)\n",
    "X_train_tfidf = tfidf_vectorizer.transform(X_train)\n",
    "X_test_tfidf = tfidf_vectorizer.transform(X_test)\n",
    "vocabulary_size = len(tfidf_vectorizer.vocabulary_)\n",
    "\n",
    "\n",
    "#Construct a Neural Network\n",
    "\n",
    "nn_model = Sequential()\n",
    "nn_model.add(InputLayer(input_shape=(vocabulary_size,)))\n",
    "\n",
    "nn_model.add(Dense(64, activation='relu'))\n",
    "\n",
    "nn_model.add(Dense(32, activation='relu'))\n",
    "\n",
    "nn_model.add(Dense(16, activation='relu'))\n",
    "\n",
    "nn_model.add(Dense(1, activation='sigmoid'))\n",
    "\n",
    "nn_model.summary()\n",
    "\n",
    "#Define the Optimization function\n",
    "sgd_optimizer = keras.optimizers.SGD(learning_rate=0.09)\n",
    "\n",
    "#Define the Loss Function\n",
    "loss_fn = keras.losses.BinaryCrossentropy(from_logits=False)\n",
    "\n",
    "# Compile the Model\n",
    "nn_model.compile(\n",
    "    optimizer=sgd_optimizer,\n",
    "    loss=loss_fn,\n",
    "    metrics=['accuracy']\n",
    ")\n",
    "\n"
   ]
  },
  {
   "cell_type": "code",
   "execution_count": 6,
   "metadata": {},
   "outputs": [
    {
     "name": "stdout",
     "output_type": "stream",
     "text": [
      "Epoch [5/ 40], Loss: 0.6868, Accuracy: 0.5723, Val_loss: 0.6867, Val_accuracy: 0.5101\n",
      "Epoch [10/ 40], Loss: 0.6419, Accuracy: 0.7329, Val_loss: 0.6564, Val_accuracy: 0.6385\n",
      "Epoch [15/ 40], Loss: 0.5161, Accuracy: 0.7363, Val_loss: 0.5383, Val_accuracy: 0.7027\n",
      "Epoch [20/ 40], Loss: 0.3910, Accuracy: 0.8352, Val_loss: 0.4120, Val_accuracy: 0.8311\n",
      "Epoch [25/ 40], Loss: 0.1809, Accuracy: 0.9408, Val_loss: 1.4383, Val_accuracy: 0.5101\n",
      "Epoch [30/ 40], Loss: 0.0244, Accuracy: 1.0000, Val_loss: 0.4060, Val_accuracy: 0.8176\n",
      "Epoch [35/ 40], Loss: 0.0073, Accuracy: 1.0000, Val_loss: 0.4375, Val_accuracy: 0.8176\n",
      "Epoch [40/ 40], Loss: 0.0038, Accuracy: 1.0000, Val_loss: 0.4602, Val_accuracy: 0.8007\n",
      "Elapsed time: 4.05s\n"
     ]
    },
    {
     "data": {
      "text/plain": [
       "dict_keys(['loss', 'accuracy', 'val_loss', 'val_accuracy'])"
      ]
     },
     "execution_count": 6,
     "metadata": {},
     "output_type": "execute_result"
    }
   ],
   "source": [
    "#Fit the Model on the Training Data\n",
    "class ProgBarLoggerNEpochs(keras.callbacks.Callback):\n",
    "    \n",
    "    def __init__(self, num_epochs: int, every_n: int = 50):\n",
    "        self.num_epochs = num_epochs\n",
    "        self.every_n = every_n\n",
    "    \n",
    "    def on_epoch_end(self, epoch, logs=None):\n",
    "        if (epoch + 1) % self.every_n == 0:\n",
    "            s = 'Epoch [{}/ {}]'.format(epoch + 1, self.num_epochs)\n",
    "            logs_s = ['{}: {:.4f}'.format(k.capitalize(), v)\n",
    "                      for k, v in logs.items()]\n",
    "            s_list = [s] + logs_s\n",
    "            print(', '.join(s_list))\n",
    "\n",
    "t0 = time.time() # start time\n",
    "\n",
    "num_epochs = 40 # epochs\n",
    "\n",
    "history = nn_model.fit(\n",
    "    X_train_tfidf.toarray(),  # convert sparse matrix to numpy array\n",
    "    y_train,\n",
    "    epochs=num_epochs,\n",
    "    verbose=0,\n",
    "    validation_split=0.2,\n",
    "    callbacks=[ProgBarLoggerNEpochs(num_epochs, every_n=5)]\n",
    ") # YOUR CODE HERE \n",
    "\n",
    "t1 = time.time() # stop time\n",
    "\n",
    "print('Elapsed time: %.2fs' % (t1-t0))\n",
    "history.history.keys()"
   ]
  },
  {
   "cell_type": "code",
   "execution_count": 7,
   "metadata": {},
   "outputs": [
    {
     "data": {
      "image/png": "[encoded data removed]",
      "text/plain": [
       "<Figure size 640x480 with 1 Axes>"
      ]
     },
     "metadata": {},
     "output_type": "display_data"
    },
    {
     "data": {
      "image/png": "[encoded data removed]",
      "text/plain": [
       "<Figure size 640x480 with 1 Axes>"
      ]
     },
     "metadata": {},
     "output_type": "display_data"
    }
   ],
   "source": [
    "#Visualize the Model's Performance Over Time\n",
    "plt.plot(range(1, num_epochs + 1), history.history['loss'], label='Training Loss')\n",
    "plt.plot(range(1, num_epochs + 1), history.history['val_loss'], label='Validation Loss')\n",
    "\n",
    "plt.xlabel('Epoch')\n",
    "plt.ylabel('Loss')\n",
    "plt.legend()\n",
    "plt.show()\n",
    "\n",
    "\n",
    "# Plot training and validation accuracy\n",
    "plt.plot(range(1, num_epochs + 1), history.history['accuracy'], label='Training Accuracy')\n",
    "plt.plot(range(1, num_epochs + 1), history.history['val_accuracy'], label='Validation Accuracy')\n",
    "\n",
    "plt.xlabel('Epoch')\n",
    "plt.ylabel('Accuracy')\n",
    "plt.legend()\n",
    "plt.show()"
   ]
  },
  {
   "cell_type": "code",
   "execution_count": 8,
   "metadata": {},
   "outputs": [
    {
     "name": "stdout",
     "output_type": "stream",
     "text": [
      "16/16 [==============================] - 0s 1ms/step - loss: 0.4879 - accuracy: 0.8239\n",
      "Loss:  0.4879109263420105 Accuracy:  0.8238866329193115\n"
     ]
    }
   ],
   "source": [
    "#Evaluate the Performance on the Test Set\n",
    "loss, accuracy = nn_model.evaluate(X_test_tfidf.toarray(), y_test)# YOUR CODE HERE\n",
    "\n",
    "print('Loss: ', str(loss) , 'Accuracy: ', str(accuracy))"
   ]
  },
  {
   "cell_type": "code",
   "execution_count": 9,
   "metadata": {},
   "outputs": [
    {
     "name": "stdout",
     "output_type": "stream",
     "text": [
      "Predictions for the first 20 examples:\n",
      "Predicted Probability: 0.9958, Actual Label: False\n",
      "Predicted Probability: 0.9337, Actual Label: True\n",
      "Predicted Probability: 0.9460, Actual Label: True\n",
      "Predicted Probability: 0.8486, Actual Label: False\n",
      "Predicted Probability: 0.9984, Actual Label: True\n",
      "Predicted Probability: 0.9975, Actual Label: True\n",
      "Predicted Probability: 0.9578, Actual Label: True\n",
      "Predicted Probability: 0.6536, Actual Label: False\n",
      "Predicted Probability: 0.9888, Actual Label: True\n",
      "Predicted Probability: 0.9968, Actual Label: True\n",
      "Predicted Probability: 0.9806, Actual Label: False\n",
      "Predicted Probability: 0.9825, Actual Label: True\n",
      "Predicted Probability: 0.8423, Actual Label: True\n",
      "Predicted Probability: 0.6240, Actual Label: True\n"
     ]
    }
   ],
   "source": [
    "#Predictions on Test Set\n",
    "# Make predictions on the test set\n",
    "probability_predictions =  nn_model.predict(X_test_tfidf.toarray())# YOUR CODE HERE\n",
    "\n",
    "print(\"Predictions for the first 20 examples:\")\n",
    "# YOUR CODE HERE\n",
    "y_test_array = y_test.to_numpy()  # Convert to NumPy array for indexing\n",
    "\n",
    "for i in range(20):\n",
    "    prob = probability_predictions[i][0]\n",
    "    if prob > 0.5:\n",
    "        print(f\"Predicted Probability: {prob:.4f}, Actual Label: {y_test_array[i]}\")"
   ]
  },
  {
   "cell_type": "code",
   "execution_count": 10,
   "metadata": {},
   "outputs": [
    {
     "name": "stderr",
     "output_type": "stream",
     "text": [
      "/home/ubuntu/.pyenv/versions/3.9.19/lib/python3.9/site-packages/tensorflow/python/keras/engine/sequential.py:430: UserWarning: `model.predict_proba()` is deprecated and will be removed after 2021-01-01. Please use `model.predict()` instead.\n",
      "  warnings.warn('`model.predict_proba()` is deprecated and '\n"
     ]
    },
    {
     "data": {
      "image/png": "[encoded data removed]",
      "text/plain": [
       "<Figure size 640x480 with 1 Axes>"
      ]
     },
     "metadata": {},
     "output_type": "display_data"
    }
   ],
   "source": [
    "from sklearn.metrics import accuracy_score, confusion_matrix, precision_recall_curve\n",
    "#Precision-recall curve\n",
    "probability_proba_predictions =  nn_model.predict_proba(X_test_tfidf.toarray())\n",
    "precision, recall, thresholds = precision_recall_curve(y_test,probability_proba_predictions)\n",
    "\n",
    "fig = plt.figure()\n",
    "ax = fig.add_subplot(111)\n",
    "\n",
    "# Default model (limegreen)\n",
    "sns.lineplot(\n",
    "    x=recall, \n",
    "    y=precision, \n",
    "    color='limegreen', \n",
    "    label='NNM Model', \n",
    "    linewidth=2.5,\n",
    "    ax=ax\n",
    ")\n",
    "\n",
    "\n",
    "# Titles and labels\n",
    "ax.set_title(\"Precision-Recall Curve Comparison\")\n",
    "ax.set_xlabel(\"Recall\")\n",
    "ax.set_ylabel(\"Precision\")\n",
    "ax.legend()\n",
    "ax.grid(True)\n",
    "\n",
    "plt.show()"
   ]
  },
  {
   "cell_type": "code",
   "execution_count": 23,
   "metadata": {},
   "outputs": [
    {
     "name": "stdout",
     "output_type": "stream",
     "text": [
      "Review #1:\n",
      "\n",
      "This book has a lot of insights about various ways in which the ' pace of life and learning' have since the Scientific Revolution accelerated. In other words it is a book which gives one much to think about.\n",
      "The problem is that it also suggests that given the vast increase of information available to us, the vast increase in 'possible alternatives' for our attention, that we will probably have our minds moved away from the insights so rapidly as to not even absorb them.\n",
      "The obvious reply to such an intense barrage upon our consciousness, is to withdraw. And when we withdraw and close out all that is accelerating around us, we begin to try and make a pace and story of our own within ourselves.\n",
      "The faster we are forced to go, the slower we may need to go. \n",
      "I think a companion volume , or perhaps a contradictory volume should be written on all those human activities which might be aided by our ' going slower in them'. And along with this volume should be advice and recommendation of how to keep out of our life these seemingly endless intrusions which disrupt our living by our own rhythm. \n",
      "\"Run slowly, slowly horses of the night\"\n",
      "\n",
      "\n",
      "Prediction: Is this a good review? True\n",
      "\n",
      "Actual: Is this a good review? True\n",
      "\n"
     ]
    }
   ],
   "source": [
    "#Predictions on Test Set\n",
    "print('Review #1:\\n')\n",
    "\n",
    "print(X_test.to_numpy()[8])\n",
    "\n",
    "goodReview = True if probability_predictions[8] >= .5 else False\n",
    "    \n",
    "print('\\nPrediction: Is this a good review? {}\\n'.format(goodReview))\n",
    "\n",
    "print('Actual: Is this a good review? {}\\n'.format(y_test.to_numpy()[8]))"
   ]
  },
  {
   "cell_type": "code",
   "execution_count": 24,
   "metadata": {},
   "outputs": [
    {
     "name": "stdout",
     "output_type": "stream",
     "text": [
      "Review #1:\n",
      "\n",
      "I echo the comments of the previous reviewers.  Don't waste your money.  Not only does this book present a tedious repetition of facts and stories already well known to even a casual U2 fan, it can't even get those facts right!  The book states that Bono's father dropped the family off at a Catholic Church before driving himself to another church.  This contradicts the correct statement on the preceding page that Bob Hewson was Catholic, while Bono, his mother and brother were Protestant.  In the same paragraph the Dublin neighborhood of \"Glasnevin\" is misspelled \"Asnevin\".  The hearing aid shop from which Bono took his name is misspelled, and perhaps most galling of all, the author can't even get the full name of Larry Mullen, Jr. right!  And this is just chapter one!  \n",
      "\n",
      "I have to agree that this book was simply thrown together to make a quick buck and therefore not worth purchasing.  I would suggest skipping this one and purchasing Bono: In Conversation With Michka Assayas, which includes a pretty good account of Bono's life from the man himself. \n",
      "\n",
      "\n",
      "Prediction: Is this a good review? False\n",
      "\n",
      "Actual: Is this a good review? False\n",
      "\n"
     ]
    }
   ],
   "source": [
    "#Predictions on Test Set\n",
    "print('Review #1:\\n')\n",
    "\n",
    "print(X_test.to_numpy()[25])\n",
    "\n",
    "goodReview = True if probability_predictions[25] >= .5 else False\n",
    "    \n",
    "print('\\nPrediction: Is this a good review? {}\\n'.format(goodReview))\n",
    "\n",
    "print('Actual: Is this a good review? {}\\n'.format(y_test.to_numpy()[25]))"
   ]
  },
  {
   "cell_type": "code",
   "execution_count": 25,
   "metadata": {},
   "outputs": [
    {
     "name": "stdout",
     "output_type": "stream",
     "text": [
      "Review #1:\n",
      "\n",
      "This book describes the eleven-year psychotherapy process for a woman with sixteen different personalities.  The analysis process took place from 1954 through 1965.  Sybil, the subject of the book, was a child of the 1920's and 30's, and her multiple-personality disease was a result of her family's genetic history and her fundamentalist, repressed, and abusive upbringing.  Much of Sybil's struggles were due to the time period in which she lived--her family had mental illness but felt that ignoring it and focusing on other pursuits was the best course of action.  She was so denied the exploration of her feelings that she choked back all symptoms of mental illness and tried to act normal, hindering her recovery for years.\n",
      "\n",
      "I am still in shock over the patience and dedication that was required to work with the frustratingly different personalities over a period of eleven years!  I got frustrated at the slow and relapse-prone re-integration process at the end of the book, and I admire Schreiber for painstakingly recounting the process instead of using Hollywood-style short-cuts.  Sybil's recovery and emergence as a complete, functional woman in her forties was a very hard-won victory.\n",
      "\n",
      "During the revealing of Sybil's personalities, I really liked Vicky.  She was the all-seeing personality who know the lineage of all others.  I liked her better than I liked the backbone-less Sybil, and I wanted her to exist for this lost woman.  During the personality-integration process, I learned that all of the personalities were a part of Sybil, and such exaggerated emotion as Vicky's had to be integrated in to part of the whole Sybil.\n",
      "\n",
      "Overall, this is an amazing book that well stands the test of time.\n",
      "\n",
      "\n",
      "Prediction: Is this a good review? True\n",
      "\n",
      "Actual: Is this a good review? True\n",
      "\n"
     ]
    }
   ],
   "source": [
    "#Predictions on Test Set\n",
    "print('Review #1:\\n')\n",
    "\n",
    "print(X_test.to_numpy()[132])\n",
    "\n",
    "goodReview = True if probability_predictions[132] >= .5 else False\n",
    "    \n",
    "print('\\nPrediction: Is this a good review? {}\\n'.format(goodReview))\n",
    "\n",
    "print('Actual: Is this a good review? {}\\n'.format(y_test.to_numpy()[132]))"
   ]
  },
  {
   "cell_type": "code",
   "execution_count": null,
   "metadata": {},
   "outputs": [],
   "source": [
    "I experimented with various parameters, including dropout layers, epoch count, and learning rates. The learning rate had the most significant impact. At learning rate of 0.1, the model overfitted, while at 0.01, training accuracy dropped sharply, leading to poor predictions. After tuning, a learning rate of 0.09 yielded the best results, achieving a model accuracy of 82.39.\n"
   ]
  },
  {
   "cell_type": "code",
   "execution_count": 12,
   "metadata": {},
   "outputs": [],
   "source": [
    "#making model persistent \n",
    "# Saving the model in Keras format\n",
    "nn_model.save(\"Feedforward_NeuralNetwork.keras\")\n",
    "\n",
    "# Saving the TF-IDF vectorizer using pickle\n",
    "import pickle\n",
    "with open(\"tfidf_vectorizer.pkl\", \"wb\") as f:\n",
    "    pickle.dump(tfidf_vectorizer, f)\n"
   ]
  },
  {
   "cell_type": "code",
   "execution_count": 14,
   "metadata": {},
   "outputs": [],
   "source": [
    "#How to use/load the model\n",
    "from keras.models import load_model\n",
    "\n",
    "# Load the model\n",
    "loaded_model = load_model(\"Feedforward_NeuralNetwork.keras\")\n",
    "\n",
    "# Load the TF-IDF vectorizer\n",
    "with open(\"tfidf_vectorizer.pkl\", \"rb\") as f:\n",
    "    loaded_vectorizer = pickle.load(f)\n",
    "\n",
    "# Transform test data\n",
    "X_test_transformed = loaded_vectorizer.transform(X_test)\n",
    "\n",
    "# Predict\n",
    "predictions = loaded_model.predict(X_test_transformed.toarray())"
   ]
  }
 ],
 "metadata": {
  "kernelspec": {
   "display_name": "Python 3 (ipykernel)",
   "language": "python",
   "name": "python3"
  },
  "language_info": {
   "codemirror_mode": {
    "name": "ipython",
    "version": 3
   },
   "file_extension": ".py",
   "mimetype": "text/x-python",
   "name": "python",
   "nbconvert_exporter": "python",
   "pygments_lexer": "ipython3",
   "version": "3.9.19"
  },
  "toc": {
   "base_numbering": 1,
   "nav_menu": {},
   "number_sections": false,
   "sideBar": true,
   "skip_h1_title": false,
   "title_cell": "Table of Contents",
   "title_sidebar": "Contents",
   "toc_cell": false,
   "toc_position": {},
   "toc_section_display": true,
   "toc_window_display": false
  },
  "varInspector": {
   "cols": {
    "lenName": 16,
    "lenType": 16,
    "lenVar": 40
   },
   "kernels_config": {
    "python": {
     "delete_cmd_postfix": "",
     "delete_cmd_prefix": "del ",
     "library": "var_list.py",
     "varRefreshCmd": "print(var_dic_list())"
    },
    "r": {
     "delete_cmd_postfix": ") ",
     "delete_cmd_prefix": "rm(",
     "library": "var_list.r",
     "varRefreshCmd": "cat(var_dic_list()) "
    }
   },
   "types_to_exclude": [
    "module",
    "function",
    "builtin_function_or_method",
    "instance",
    "_Feature"
   ],
   "window_display": false
  }
 },
 "nbformat": 4,
 "nbformat_minor": 4
}
